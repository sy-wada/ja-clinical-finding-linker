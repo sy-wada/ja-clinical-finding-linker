{
 "cells": [
  {
   "cell_type": "code",
   "execution_count": 1,
   "metadata": {},
   "outputs": [
    {
     "name": "stdout",
     "output_type": "stream",
     "text": [
      "INFO 05-02 10:54:15 [__init__.py:239] Automatically detected platform cuda.\n"
     ]
    }
   ],
   "source": [
    "import os\n",
    "os.environ[\"VLLM_USE_V1\"] = \"0\"      # ← remove this after the bug of vllm is fixed\n",
    "\n",
    "from enum import Enum\n",
    "from pydantic import BaseModel, Field\n",
    "from typing import List\n",
    "import json\n",
    "from string import Template\n",
    "\n",
    "from vllm import LLM, SamplingParams\n",
    "from vllm.sampling_params import GuidedDecodingParams\n",
    "from vllm.lora.request import LoRARequest\n",
    "from transformers import AutoTokenizer"
   ]
  },
  {
   "cell_type": "code",
   "execution_count": 2,
   "metadata": {},
   "outputs": [],
   "source": [
    "# Few-shot examples\n",
    "samples = [\n",
    "    {\n",
    "        \"input\": (\n",
    "            \"慢性関節リウマチの診断と管理\\n\\n\"\n",
    "            + \"関節の腫脹、疼痛、可動域制限などの症状が認められる。\"\n",
    "            + \"血清リウマトイド因子やCRPの上昇が典型的な検査所見として報告されている。\"\n",
    "            + \"進行例では骨侵食や関節変形を合併し、日常生活動作に支障をきたすことがある。\"\n",
    "                  ),\n",
    "        \"output\": {\n",
    "            \"results\": [\n",
    "                {\n",
    "                \"disease_text\": \"慢性関節リウマチ\",\n",
    "                \"abnormal_findings_caused_by_the_disease\": [\n",
    "                    {\n",
    "                    \"finding_text\": \"関節の腫脹\",\n",
    "                    \"finding_type\": \"symptom\"\n",
    "                    },\n",
    "                    {\n",
    "                    \"finding_text\": \"疼痛\",\n",
    "                    \"finding_type\": \"symptom\"\n",
    "                    },\n",
    "                    {\n",
    "                    \"finding_text\": \"可動域制限\",\n",
    "                    \"finding_type\": \"symptom\"\n",
    "                    },\n",
    "                    {\n",
    "                    \"finding_text\": \"血清リウマトイド因子の上昇\",\n",
    "                    \"finding_type\": \"examination_result\"\n",
    "                    },\n",
    "                    {\n",
    "                    \"finding_text\": \"CRPの上昇\",\n",
    "                    \"finding_type\": \"examination_result\"\n",
    "                    },\n",
    "                    {\n",
    "                    \"finding_text\": \"骨侵食\",\n",
    "                    \"finding_type\": \"complication\"\n",
    "                    },\n",
    "                    {\n",
    "                    \"finding_text\": \"関節変形\",\n",
    "                    \"finding_type\": \"complication\"\n",
    "                    }\n",
    "                ]\n",
    "                }\n",
    "            ]\n",
    "        }\n",
    "    },\n",
    "    {\n",
    "        \"input\": (\n",
    "            \"糖尿病の病態\\n\\n\"\n",
    "            + \"多尿、口渇、体重減少が一般的な症状として現れる。\"\n",
    "            + \"血糖値の上昇やHbA1cの増加が認められる。\"\n",
    "            + \"長期的には網膜症や神経障害を合併する。\"\n",
    "                  ),\n",
    "        \"output\": {\n",
    "            \"results\": [\n",
    "                {\n",
    "                \"disease_text\": \"糖尿病\",\n",
    "                \"abnormal_findings_caused_by_the_disease\": [\n",
    "                    {\n",
    "                    \"finding_text\": \"多尿\",\n",
    "                    \"finding_type\": \"symptom\"\n",
    "                    },\n",
    "                    {\n",
    "                    \"finding_text\": \"口渇\",\n",
    "                    \"finding_type\": \"symptom\"\n",
    "                    },\n",
    "                    {\n",
    "                    \"finding_text\": \"体重減少\",\n",
    "                    \"finding_type\": \"symptom\"\n",
    "                    },\n",
    "                    {\n",
    "                    \"finding_text\": \"血糖値の上昇\",\n",
    "                    \"finding_type\": \"examination_result\"\n",
    "                    },\n",
    "                    {\n",
    "                    \"finding_text\": \"HbA1cの増加\",\n",
    "                    \"finding_type\": \"examination_result\"\n",
    "                    },\n",
    "                    {\n",
    "                    \"finding_text\": \"網膜症\",\n",
    "                    \"finding_type\": \"complication\"\n",
    "                    },\n",
    "                    {\n",
    "                    \"finding_text\": \"神経障害\",\n",
    "                    \"finding_type\": \"complication\"\n",
    "                    }\n",
    "                ]\n",
    "                }\n",
    "            ]\n",
    "            }\n",
    "    }\n",
    "]\n",
    "\n"
   ]
  },
  {
   "cell_type": "code",
   "execution_count": 3,
   "metadata": {},
   "outputs": [],
   "source": [
    "# Define the schema for the output\n",
    "class FindingCategory(str, Enum):\n",
    "    symptom = \"symptom\"\n",
    "    examination_result = \"examination_result\"\n",
    "    complication = \"complication\"\n",
    "\n",
    "class AbnormalFinding(BaseModel):\n",
    "    finding_text: str = Field(\n",
    "        ...,\n",
    "        title=\"所見テキスト\",\n",
    "        description=\"記事中に記載された症状・検査所見・合併症の名称\"\n",
    "    )\n",
    "    finding_type: FindingCategory = Field(\n",
    "        ...,\n",
    "        title=\"所見タイプ\",\n",
    "        description=\"`symptom`／`examination_result`／`complication` のいずれか\"\n",
    "    )\n",
    "\n",
    "class DiseaseProperty(BaseModel):\n",
    "    disease_text: str = Field(\n",
    "        ...,\n",
    "        title=\"疾患テキスト\",\n",
    "        description=\"抽出された疾患名の正式名称\"\n",
    "    )\n",
    "    abnormal_findings_caused_by_the_disease: List[AbnormalFinding] = Field(\n",
    "        ...,\n",
    "        title=\"異常所見一覧\",\n",
    "        description=\"当該疾患に関連する全所見\"\n",
    "    )\n",
    "\n",
    "class ExtractionResult(BaseModel):\n",
    "    results: List[DiseaseProperty] = Field(\n",
    "        ...,\n",
    "        title=\"抽出結果リスト\",\n",
    "        description=\"複数疾患対応の抽出結果配列\"\n",
    "    )\n",
    "\n",
    "    class Config:\n",
    "        populate_by_name = True\n",
    "        json_schema_extra = {\n",
    "            \"example\": samples[0][\"output\"]\n",
    "        }"
   ]
  },
  {
   "cell_type": "code",
   "execution_count": 4,
   "metadata": {},
   "outputs": [],
   "source": [
    "prompts = {\n",
    "    \"system\": (\n",
    "        \"あなたは日本語医学文献から疾患と関連所見を抽出する専門エンジンです。\"\n",
    "        \"以下の JSON Schema に**完全準拠**し、他のテキストを一切含めず JSON のみで出力してください：\\n\"\n",
    "        + json.dumps(ExtractionResult.model_json_schema(), ensure_ascii=False)\n",
    "    ),\n",
    "    \"user\": Template((\n",
    "        \" 以下の<<<INPUT>>>と<<<END>>>で囲まれたテキストを処理し、システムプロンプトで定義したJSON Schemaに\"\n",
    "        \"**完全に従って**JSONのみを返してください。\\n\"\n",
    "        \"処理の内容は、「記事中に記載された個々の症状・検査所見・合併症の表現をそのまま抽出して記載すること」です。\\n\"\n",
    "        \"与えられたテキストに出現する『疾患テキスト』と『所見テキスト』を抽出して、そのまま記載してください。\\n\"\n",
    "        \"【所見タイプの定義】\\n\"\n",
    "        \"symptom: 自覚症状・他覚所見に加えて、医師が視診・触診・聴診などの手や簡単な器具を使って確認できる理学所見や体温・脈拍・呼吸数・血圧などのバイタルサイン、尿量や身長・体重など、簡便に確認可能な所見\\n\"\n",
    "        \"examination_result: 血液検査、X線、超音波、病理検査など、検査オーダーが必要な客観的所見\\n\"\n",
    "        \"complication: その疾患の進行・長期化で発生しうる合併症のこと。\\n\"\n",
    "        \"### タスクの対象:\\n\"\n",
    "        \"<<<INPUT>>>\\n\"\n",
    "        \"${ArticleText}\\n\"\n",
    "        \"<<<END>>>\\n\\n\"\n",
    "    ))\n",
    "}"
   ]
  },
  {
   "cell_type": "code",
   "execution_count": 5,
   "metadata": {},
   "outputs": [
    {
     "name": "stdout",
     "output_type": "stream",
     "text": [
      "INFO 05-02 10:54:17 [config.py:209] Replacing legacy 'type' key with 'rope_type'\n",
      "INFO 05-02 10:54:23 [config.py:717] This model supports multiple tasks: {'embed', 'score', 'generate', 'reward', 'classify'}. Defaulting to 'generate'.\n",
      "WARNING 05-02 10:54:23 [arg_utils.py:1536] The model has a long context length (131072). This may causeOOM during the initial memory profiling phase, or result in low performance due to small KV cache size. Consider setting --max-model-len to a smaller value.\n",
      "INFO 05-02 10:54:23 [llm_engine.py:240] Initializing a V0 LLM engine (v0.8.5) with config: model='unsloth/Phi-4-mini-instruct', speculative_config=None, tokenizer='unsloth/Phi-4-mini-instruct', skip_tokenizer_init=False, tokenizer_mode=auto, revision=None, override_neuron_config=None, tokenizer_revision=None, trust_remote_code=False, dtype=torch.bfloat16, max_seq_len=131072, download_dir=None, load_format=LoadFormat.AUTO, tensor_parallel_size=1, pipeline_parallel_size=1, disable_custom_all_reduce=False, quantization=None, enforce_eager=False, kv_cache_dtype=auto,  device_config=cuda, decoding_config=DecodingConfig(guided_decoding_backend='xgrammar', reasoning_backend=None), observability_config=ObservabilityConfig(show_hidden_metrics=False, otlp_traces_endpoint=None, collect_model_forward_time=False, collect_model_execute_time=False), seed=None, served_model_name=unsloth/Phi-4-mini-instruct, num_scheduler_steps=1, multi_step_stream_outputs=True, enable_prefix_caching=None, chunked_prefill_enabled=False, use_async_output_proc=True, disable_mm_preprocessor_cache=False, mm_processor_kwargs=None, pooler_config=None, compilation_config={\"splitting_ops\":[],\"compile_sizes\":[],\"cudagraph_capture_sizes\":[256,248,240,232,224,216,208,200,192,184,176,168,160,152,144,136,128,120,112,104,96,88,80,72,64,56,48,40,32,24,16,8,4,2,1],\"max_capture_size\":256}, use_cached_outputs=False, \n",
      "INFO 05-02 10:54:24 [cuda.py:292] Using Flash Attention backend.\n",
      "INFO 05-02 10:54:25 [parallel_state.py:1004] rank 0 in world size 1 is assigned as DP rank 0, PP rank 0, TP rank 0\n",
      "INFO 05-02 10:54:25 [model_runner.py:1108] Starting to load model unsloth/Phi-4-mini-instruct...\n",
      "INFO 05-02 10:54:26 [weight_utils.py:265] Using model weights format ['*.safetensors']\n"
     ]
    },
    {
     "data": {
      "application/vnd.jupyter.widget-view+json": {
       "model_id": "47f6984caa6041e0ad0fe85332910e6d",
       "version_major": 2,
       "version_minor": 0
      },
      "text/plain": [
       "Loading safetensors checkpoint shards:   0% Completed | 0/2 [00:00<?, ?it/s]\n"
      ]
     },
     "metadata": {},
     "output_type": "display_data"
    },
    {
     "name": "stdout",
     "output_type": "stream",
     "text": [
      "INFO 05-02 10:54:27 [loader.py:458] Loading weights took 1.14 seconds\n",
      "INFO 05-02 10:54:27 [punica_selector.py:18] Using PunicaWrapperGPU.\n",
      "INFO 05-02 10:54:28 [model_runner.py:1140] Model loading took 7.2370 GiB and 2.373489 seconds\n",
      "INFO 05-02 10:54:38 [worker.py:287] Memory profiling takes 10.26 seconds\n",
      "INFO 05-02 10:54:38 [worker.py:287] the current vLLM instance can use total_gpu_memory (47.41GiB) x gpu_memory_utilization (0.90) = 42.67GiB\n",
      "INFO 05-02 10:54:38 [worker.py:287] model weights take 7.24GiB; non_torch_memory takes 0.06GiB; PyTorch activation peak memory takes 8.26GiB; the rest of the memory reserved for KV Cache is 27.11GiB.\n",
      "INFO 05-02 10:54:38 [executor_base.py:112] # cuda blocks: 13882, # CPU blocks: 2048\n",
      "INFO 05-02 10:54:38 [executor_base.py:117] Maximum concurrency for 131072 tokens per request: 1.69x\n",
      "INFO 05-02 10:54:41 [model_runner.py:1450] Capturing cudagraphs for decoding. This may lead to unexpected consequences if the model is not static. To run the model in eager mode, set 'enforce_eager=True' or use '--enforce-eager' in the CLI. If out-of-memory error occurs during cudagraph capture, consider decreasing `gpu_memory_utilization` or switching to eager mode. You can also reduce the `max_num_seqs` as needed to decrease memory usage.\n"
     ]
    },
    {
     "data": {
      "application/vnd.jupyter.widget-view+json": {
       "model_id": "84094f819f0949ff8fc2cc59473aa78f",
       "version_major": 2,
       "version_minor": 0
      },
      "text/plain": [
       "Capturing CUDA graph shapes:   0%|          | 0/35 [00:00<?, ?it/s]"
      ]
     },
     "metadata": {},
     "output_type": "display_data"
    },
    {
     "name": "stdout",
     "output_type": "stream",
     "text": [
      "INFO 05-02 10:54:58 [model_runner.py:1592] Graph capturing finished in 16 secs, took 0.51 GiB\n",
      "INFO 05-02 10:54:58 [llm_engine.py:437] init engine (profile, create kv cache, warmup model) took 29.94 seconds\n"
     ]
    }
   ],
   "source": [
    "base_model = \"unsloth/Phi-4-mini-instruct\"\n",
    "llm = LLM(\n",
    "    model=base_model,\n",
    "    tensor_parallel_size=1,\n",
    "    gpu_memory_utilization=0.9,\n",
    "    swap_space=4,\n",
    "    cpu_offload_gb=0,\n",
    "    enable_lora=True\n",
    ")\n",
    "tokenizer = AutoTokenizer.from_pretrained(base_model)"
   ]
  },
  {
   "cell_type": "code",
   "execution_count": 6,
   "metadata": {},
   "outputs": [],
   "source": [
    "json_schema = ExtractionResult.model_json_schema()\n",
    "guided_decoding_params_json = GuidedDecodingParams(json=json_schema)\n",
    "sampling_params = SamplingParams(\n",
    "                        temperature=0.0,\n",
    "                        max_tokens=1024,\n",
    "                        guided_decoding=guided_decoding_params_json\n",
    "                        )"
   ]
  },
  {
   "cell_type": "markdown",
   "metadata": {},
   "source": [
    "## Evaluate Outputs for a short sample (73 characters)"
   ]
  },
  {
   "cell_type": "code",
   "execution_count": 7,
   "metadata": {},
   "outputs": [
    {
     "data": {
      "application/vnd.jupyter.widget-view+json": {
       "model_id": "fc1b8d14884d474ca8f8a082fddaf647",
       "version_major": 2,
       "version_minor": 0
      },
      "text/plain": [
       "Processed prompts:   0%|          | 0/1 [00:00<?, ?it/s, est. speed input: 0.00 toks/s, output: 0.00 toks/s]"
      ]
     },
     "metadata": {},
     "output_type": "display_data"
    },
    {
     "name": "stdout",
     "output_type": "stream",
     "text": [
      "=== BASE MODEL ===\n"
     ]
    },
    {
     "data": {
      "text/plain": [
       "{'results': [{'disease_text': '糖尿病の病態',\n",
       "   'abnormal_findings_caused_by_the_disease': [{'finding_text': '多尿',\n",
       "     'finding_type': 'symptom'},\n",
       "    {'finding_text': '口渇', 'finding_type': 'symptom'},\n",
       "    {'finding_text': '体重減少', 'finding_type': 'symptom'},\n",
       "    {'finding_text': '血糖値の上昇', 'finding_type': 'examination_result'},\n",
       "    {'finding_text': 'HbA1cの増加', 'finding_type': 'examination_result'},\n",
       "    {'finding_text': '網膜症', 'finding_type': 'complication'},\n",
       "    {'finding_text': '神経障害', 'finding_type': 'complication'}]}]}"
      ]
     },
     "metadata": {},
     "output_type": "display_data"
    },
    {
     "data": {
      "application/vnd.jupyter.widget-view+json": {
       "model_id": "c30b6f916acb4378a06b696274aa931d",
       "version_major": 2,
       "version_minor": 0
      },
      "text/plain": [
       "Processed prompts:   0%|          | 0/1 [00:00<?, ?it/s, est. speed input: 0.00 toks/s, output: 0.00 toks/s]"
      ]
     },
     "metadata": {},
     "output_type": "display_data"
    },
    {
     "data": {
      "application/vnd.jupyter.widget-view+json": {
       "model_id": "4ce67475e0a04fd687ae46fbe8252ef1",
       "version_major": 2,
       "version_minor": 0
      },
      "text/plain": [
       "Fetching 10 files:   0%|          | 0/10 [00:00<?, ?it/s]"
      ]
     },
     "metadata": {},
     "output_type": "display_data"
    },
    {
     "name": "stdout",
     "output_type": "stream",
     "text": [
      "=== LoRA ===\n"
     ]
    },
    {
     "data": {
      "text/plain": [
       "{'results': [{'disease_text': '糖尿病',\n",
       "   'abnormal_findings_caused_by_the_disease': [{'finding_text': '多尿',\n",
       "     'finding_type': 'symptom'},\n",
       "    {'finding_text': '口渇', 'finding_type': 'symptom'},\n",
       "    {'finding_text': '体重減少', 'finding_type': 'symptom'},\n",
       "    {'finding_text': '血糖値の上昇', 'finding_type': 'examination_result'},\n",
       "    {'finding_text': 'HbA1cの増加', 'finding_type': 'examination_result'},\n",
       "    {'finding_text': '網膜症', 'finding_type': 'complication'},\n",
       "    {'finding_text': '神経障害', 'finding_type': 'complication'}]}]}"
      ]
     },
     "metadata": {},
     "output_type": "display_data"
    }
   ],
   "source": [
    "# Evaluate a text (samples[1]) that not used in the json schema examples.\n",
    "messages = [\n",
    "    {\"role\": \"system\", \"content\": prompts[\"system\"]},\n",
    "    {\"role\": \"user\", \"content\": prompts[\"user\"].substitute(ArticleText=samples[1][\"input\"])}\n",
    "]\n",
    "prompt = tokenizer.apply_chat_template(\n",
    "    messages,\n",
    "    tokenize=False,\n",
    "    add_generation_prompt=True\n",
    ")\n",
    "\n",
    "# Phi-4-mini-instruct: Vanilla\n",
    "base_outputs = llm.generate(prompts=prompt, sampling_params=sampling_params)\n",
    "base_object = json.loads(base_outputs[0].outputs[0].text)\n",
    "print(\"=== BASE MODEL ===\")\n",
    "display(base_object)\n",
    "\n",
    "# Phi-4-mini-instruct with our PEFT adapter\n",
    "adapter_model = \"seiya/Phi-4-mini-instruct-qlora-adapter-jp-disease-finding\"\n",
    "lora_req = LoRARequest(\"our_adapter\", 1, adapter_model)  # name, unique_id, path\n",
    "lora_outputs = llm.generate(prompts=prompt, sampling_params=sampling_params, lora_request=lora_req)\n",
    "lora_object = json.loads(lora_outputs[0].outputs[0].text)\n",
    "print(\"=== LoRA ===\")\n",
    "display(lora_object)"
   ]
  },
  {
   "cell_type": "markdown",
   "metadata": {},
   "source": [
    "## Evaluate Outputs for a medium sample (1,371 characters)"
   ]
  },
  {
   "cell_type": "code",
   "execution_count": 8,
   "metadata": {},
   "outputs": [],
   "source": [
    "# Review article of PseudoDisease01\n",
    "article_text = (\n",
    "    \"__PseudoDisease01__：全身性自己免疫炎症疾患の新たな疾患概念\\n\\n\"\n",
    "\n",
    "    \"はじめに\\n\"\n",
    "    \"__PseudoDisease01__は、近年提唱されたリウマチ・膠原病領域に属する新たな全身性自己免疫性疾患である。\"\n",
    "    \"本疾患は特異的な自己抗体「抗Pseudo抗体」の出現を特徴とし、関節、皮膚、腎臓、神経系を中心に多臓器に炎症性病変をきたす。\"\n",
    "    \"自己免疫反応による慢性炎症と組織線維化が病態の中核にあり、進行例では重篤な臓器障害を伴うことも少なくない。\"\n",
    "    \"本稿では、__PseudoDisease01__の病態生理、臨床症状、検査所見、合併症、鑑別診断について概説し、今後の診断と治療の展望について述べる。\\n\\n\"\n",
    "\n",
    "    \"病態の特徴\\n\"\n",
    "    \"__PseudoDisease01__は、異常な自己免疫応答を背景に発症する。\"\n",
    "    \"抗Pseudo抗体の産生により、主に微小血管内皮が標的となり、炎症細胞の浸潤が誘導される。\"\n",
    "    \"その結果、局所での組織破壊が進行し、線維芽細胞の活性化と細胞外マトリックスの沈着が亢進する。\"\n",
    "    \"特に関節滑膜、皮膚、腎間質ではこの線維化の傾向が顕著であり、不可逆的な組織変性が多臓器機能の低下につながる。\\n\\n\"\n",
    "\n",
    "    \"臨床症状\\n\"\n",
    "    \"症状は多彩で、慢性関節痛や朝のこわばり、遠位指節の腫脹・変形といった関節リウマチ様の症状を呈する。\"\n",
    "    \"また、皮膚症状としては蝶形紅斑が認められ、全身倦怠感や発熱などの全身症状も頻発する。\"\n",
    "    \"乾燥性角結膜炎や口腔乾燥といったシェーグレン症候群様の症状、多発性筋痛、末梢神経障害によるしびれやレイノー現象など、\"\n",
    "    \"膠原病の複数の側面を併せ持つ点が本疾患の特徴である。\\n\\n\"\n",
    "\n",
    "    \"検査所見\\n\"\n",
    "    \"血清学的には、抗Pseudo抗体の検出が診断の決め手となる。\"\n",
    "    \"関節液分析ではリンパ球優位の炎症細胞浸潤を示し、皮膚生検では真皮の線維化と血管炎所見が認められる。\"\n",
    "    \"腎生検では微小血管炎に加え間質線維化が確認されることが多い。\"\n",
    "    \"MRIでは滑膜の肥厚と増殖性変化、胸部X線では肺間質の浸潤影がしばしば見られる。\"\n",
    "    \"その他、CRPや赤沈の上昇、末梢神経伝導速度の低下、シルマー試験陽性など、臓器障害を反映する多彩な所見を示す。\\n\\n\"\n",
    "\n",
    "    \"合併症\\n\"\n",
    "    \"本疾患の進行に伴い、肺線維症による呼吸不全や腎機能障害による慢性腎不全、心膜炎や心筋炎といった心病変を呈する例がある。\"\n",
    "    \"また、神経障害が進行すると運動麻痺を来す可能性があり、血栓形成に伴う血管イベントも報告されている。\"\n",
    "    \"早期診断と全身管理が不可欠である。\\n\\n\"\n",
    "\n",
    "    \"鑑別診断\\n\"\n",
    "    \"臨床像が多彩であるため、他の自己免疫疾患との鑑別が重要となる。\"\n",
    "    \"特に、\"\n",
    "    \"PseudoDisease02（全身性エリテマトーデス様疾患）、\"\n",
    "    \"PseudoDisease03（強皮症類縁疾患）、\"\n",
    "    \"PseudoDisease04（混合性結合組織病類似疾患）、\"\n",
    "    \"PseudoDisease05（シェーグレン症候群変異型）\"\n",
    "    \"との鑑別が求められる。\"\n",
    "    \"抗体プロファイルや組織所見に基づいた包括的な評価が必要である。\\n\\n\"\n",
    "\n",
    "    \"おわりに\\n\"\n",
    "    \"__PseudoDisease01__は、複数の膠原病の臨床的特徴を併せ持ちつつ、独自の免疫学的・組織学的プロファイルを有する新たな疾患単位である。\"\n",
    "    \"今後は、病態解明の進展とともに、バイオマーカーの確立、治療標的の同定が急務である。\"\n",
    "    \"臨床現場では、早期発見と臓器障害の予防に重点を置いた診療体制の整備が望まれる。\"\n",
    ")"
   ]
  },
  {
   "cell_type": "code",
   "execution_count": 9,
   "metadata": {},
   "outputs": [
    {
     "data": {
      "application/vnd.jupyter.widget-view+json": {
       "model_id": "ef1c897bdc8e42bd819030b6af891ad4",
       "version_major": 2,
       "version_minor": 0
      },
      "text/plain": [
       "Processed prompts:   0%|          | 0/1 [00:00<?, ?it/s, est. speed input: 0.00 toks/s, output: 0.00 toks/s]"
      ]
     },
     "metadata": {},
     "output_type": "display_data"
    },
    {
     "name": "stdout",
     "output_type": "stream",
     "text": [
      "=== BASE MODEL ===\n"
     ]
    },
    {
     "data": {
      "text/plain": [
       "{'results': [{'disease_text': '__PseudoDisease01__',\n",
       "   'abnormal_findings_caused_by_the_disease': [{'finding_text': '全身性自己免疫炎症疾患',\n",
       "     'finding_type': 'symptom'},\n",
       "    {'finding_text': '抗Pseudo抗体の産生', 'finding_type': 'examination_result'},\n",
       "    {'finding_text': '関節滑膜の肥厚と増殖性変化', 'finding_type': 'examination_result'},\n",
       "    {'finding_text': '肺間質の浸潤影', 'finding_type': 'examination_result'},\n",
       "    {'finding_text': '肺線維症による呼吸不全', 'finding_type': 'complication'},\n",
       "    {'finding_text': '心膜炎や心筋炎', 'finding_type': 'complication'},\n",
       "    {'finding_text': '運動麻痺', 'finding_type': 'complication'},\n",
       "    {'finding_text': '血栓形成', 'finding_type': 'complication'}]}]}"
      ]
     },
     "metadata": {},
     "output_type": "display_data"
    },
    {
     "data": {
      "application/vnd.jupyter.widget-view+json": {
       "model_id": "4e6340f3583e427f9424d9b66ca18bed",
       "version_major": 2,
       "version_minor": 0
      },
      "text/plain": [
       "Processed prompts:   0%|          | 0/1 [00:00<?, ?it/s, est. speed input: 0.00 toks/s, output: 0.00 toks/s]"
      ]
     },
     "metadata": {},
     "output_type": "display_data"
    },
    {
     "name": "stdout",
     "output_type": "stream",
     "text": [
      "=== LoRA ===\n"
     ]
    },
    {
     "data": {
      "text/plain": [
       "{'results': [{'disease_text': '__PseudoDisease01__',\n",
       "   'abnormal_findings_caused_by_the_disease': [{'finding_text': '慢性関節痛',\n",
       "     'finding_type': 'symptom'},\n",
       "    {'finding_text': '朝のこわばり', 'finding_type': 'symptom'},\n",
       "    {'finding_text': '遠位指節の腫脹・変形', 'finding_type': 'symptom'},\n",
       "    {'finding_text': '蝶形紅斑', 'finding_type': 'symptom'},\n",
       "    {'finding_text': '全身倦怠感', 'finding_type': 'symptom'},\n",
       "    {'finding_text': '発熱', 'finding_type': 'symptom'},\n",
       "    {'finding_text': '乾燥性角結膜炎', 'finding_type': 'symptom'},\n",
       "    {'finding_text': '口腔乾燥', 'finding_type': 'symptom'},\n",
       "    {'finding_text': '多発性筋痛', 'finding_type': 'symptom'},\n",
       "    {'finding_text': '末梢神経障害によるしびれ', 'finding_type': 'symptom'},\n",
       "    {'finding_text': 'レイノー現象', 'finding_type': 'symptom'},\n",
       "    {'finding_text': '抗Pseudo抗体の検出', 'finding_type': 'examination_result'},\n",
       "    {'finding_text': '関節液分析でリンパ球優位の炎症細胞浸潤',\n",
       "     'finding_type': 'examination_result'},\n",
       "    {'finding_text': '皮膚生検で真皮の線維化と血管炎所見',\n",
       "     'finding_type': 'examination_result'},\n",
       "    {'finding_text': '腎生検で微小血管炎と間質線維化', 'finding_type': 'examination_result'},\n",
       "    {'finding_text': 'MRIで滑膜の肥厚と増殖性変化', 'finding_type': 'examination_result'},\n",
       "    {'finding_text': '胸部X線で肺間質の浸潤影', 'finding_type': 'examination_result'},\n",
       "    {'finding_text': 'CRPの上昇', 'finding_type': 'examination_result'},\n",
       "    {'finding_text': '赤沈の上昇', 'finding_type': 'examination_result'},\n",
       "    {'finding_text': '末梢神経伝導速度の低下', 'finding_type': 'examination_result'},\n",
       "    {'finding_text': 'シルマー試験陽性', 'finding_type': 'examination_result'},\n",
       "    {'finding_text': '肺線維症による呼吸不全', 'finding_type': 'complication'},\n",
       "    {'finding_text': '慢性腎不全', 'finding_type': 'complication'},\n",
       "    {'finding_text': '心膜炎', 'finding_type': 'complication'},\n",
       "    {'finding_text': '心筋炎', 'finding_type': 'complication'},\n",
       "    {'finding_text': '運動麻痺', 'finding_type': 'complication'},\n",
       "    {'finding_text': '血管イベント', 'finding_type': 'complication'}]}]}"
      ]
     },
     "metadata": {},
     "output_type": "display_data"
    }
   ],
   "source": [
    "messages = [\n",
    "    {\"role\": \"system\", \"content\": prompts[\"system\"]},\n",
    "    {\"role\": \"user\", \"content\": prompts[\"user\"].substitute(ArticleText=article_text)}\n",
    "]\n",
    "prompt = tokenizer.apply_chat_template(\n",
    "    messages,\n",
    "    tokenize=False,\n",
    "    add_generation_prompt=True\n",
    ")\n",
    "sampling_params = SamplingParams(\n",
    "                        temperature=0.0,\n",
    "                        max_tokens=2048,\n",
    "                        guided_decoding=guided_decoding_params_json\n",
    "                        )\n",
    "\n",
    "# Phi-4-mini-instruct: Vanilla\n",
    "base_outputs = llm.generate(prompts=prompt, sampling_params=sampling_params)\n",
    "base_object = json.loads(base_outputs[0].outputs[0].text)\n",
    "print(\"=== BASE MODEL ===\")\n",
    "display(base_object)\n",
    "\n",
    "# Phi-4-mini-instruct with our QLoRA adapter\n",
    "adapter_model = \"seiya/Phi-4-mini-instruct-qlora-adapter-jp-disease-finding\"\n",
    "lora_req = LoRARequest(\"our_adapter\", 1, adapter_model)\n",
    "lora_outputs = llm.generate(prompts=prompt, sampling_params=sampling_params, lora_request=lora_req)\n",
    "lora_object = json.loads(lora_outputs[0].outputs[0].text)\n",
    "print(\"=== LoRA ===\")\n",
    "display(lora_object)"
   ]
  }
 ],
 "metadata": {
  "kernelspec": {
   "display_name": "vllm202504",
   "language": "python",
   "name": "python3"
  },
  "language_info": {
   "codemirror_mode": {
    "name": "ipython",
    "version": 3
   },
   "file_extension": ".py",
   "mimetype": "text/x-python",
   "name": "python",
   "nbconvert_exporter": "python",
   "pygments_lexer": "ipython3",
   "version": "3.11.11"
  }
 },
 "nbformat": 4,
 "nbformat_minor": 2
}
